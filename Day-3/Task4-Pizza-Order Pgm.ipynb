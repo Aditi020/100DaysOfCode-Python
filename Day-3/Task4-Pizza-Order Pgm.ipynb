{
 "cells": [
  {
   "cell_type": "markdown",
   "metadata": {},
   "source": [
    "# Automatic Pizza Order Program\n",
    "\n",
    "Welcome to Python Pizza, where we've built an automatic pizza order program to calculate your final bill based on your order preferences.\n",
    "\n",
    "## Pizza Sizes and Prices\n",
    "\n",
    "- Small Pizza: $15\n",
    "- Medium Pizza: $20\n",
    "- Large Pizza: $25\n",
    "\n",
    "## Additional Toppings\n",
    "\n",
    "- Pepperoni for Small Pizza: +$2\n",
    "- Pepperoni for Medium or Large Pizza: +$3\n",
    "- Extra Cheese for Any Size Pizza: +$1\n",
    "\n",
    "Simply input your order details, and our program will calculate the total cost for you. Enjoy your delicious pizza!\n"
   ]
  },
  {
   "cell_type": "code",
   "execution_count": 2,
   "metadata": {},
   "outputs": [
    {
     "name": "stdout",
     "output_type": "stream",
     "text": [
      "Welcome to Python Pizza Deliveries!\n",
      "Your final bill is: $28\n"
     ]
    }
   ],
   "source": [
    "# 🚨 Don't change the code below 👇\n",
    "print(\"Welcome to Python Pizza Deliveries!\")\n",
    "size = input(\"What size pizza do you want? S, M, or L \")\n",
    "add_pepperoni = input(\"Do you want pepperoni? Y or N \")\n",
    "extra_cheese = input(\"Do you want extra cheese? Y or N \")\n",
    "# 🚨 Don't change the code above 👆\n",
    "\n",
    "# Write your code below this line 👇\n",
    "\n",
    "#Initial idea for this solution \n",
    "if size == 'S':\n",
    "    total_cost = 15\n",
    "    if add_pepperoni == \"Y\":\n",
    "        total_cost += 2\n",
    "    if extra_cheese == \"Y\":\n",
    "        total_cost += 1\n",
    "elif size == 'M':\n",
    "    total_cost = 20\n",
    "    if add_pepperoni == \"Y\":\n",
    "        total_cost += 3\n",
    "    if extra_cheese == \"Y\":\n",
    "        total_cost += 1\n",
    "elif size == 'L':\n",
    "    total_cost = 25\n",
    "    if add_pepperoni == \"Y\":\n",
    "        total_cost += 3\n",
    "    if extra_cheese == \"Y\":\n",
    "        total_cost += 1\n",
    "else:\n",
    "    print(\"Invalid Size! Please provide a valid size.\")\n",
    "print(f\"Your final bill is: ${total_cost}\")"
   ]
  },
  {
   "cell_type": "code",
   "execution_count": 3,
   "metadata": {},
   "outputs": [
    {
     "name": "stdout",
     "output_type": "stream",
     "text": [
      "Your final bill is: $28\n"
     ]
    }
   ],
   "source": [
    "if size == 'S':\n",
    "    total_cost = 15\n",
    "elif size == 'M':\n",
    "    total_cost = 20\n",
    "elif size == 'L':\n",
    "    total_cost = 25\n",
    "else:\n",
    "    print(\"Invalid Size! Please provide a valid size.\")\n",
    "if add_pepperoni == \"Y\":\n",
    "    if size == 'S':\n",
    "        total_cost += 2\n",
    "    else:\n",
    "        total_cost += 3\n",
    "if extra_cheese == \"Y\":\n",
    "    total_cost +=1\n",
    "print(f\"Your final bill is: ${total_cost}\")"
   ]
  },
  {
   "cell_type": "code",
   "execution_count": null,
   "metadata": {},
   "outputs": [],
   "source": []
  }
 ],
 "metadata": {
  "kernelspec": {
   "display_name": "base",
   "language": "python",
   "name": "python3"
  },
  "language_info": {
   "codemirror_mode": {
    "name": "ipython",
    "version": 3
   },
   "file_extension": ".py",
   "mimetype": "text/x-python",
   "name": "python",
   "nbconvert_exporter": "python",
   "pygments_lexer": "ipython3",
   "version": "3.9.13"
  },
  "orig_nbformat": 4
 },
 "nbformat": 4,
 "nbformat_minor": 2
}
