{
 "cells": [
  {
   "cell_type": "markdown",
   "metadata": {},
   "source": [
    "# X Marks the Spot Program\n",
    "\n",
    "In this program, you will write code to mark a spot on a grid with an \"X.\" The grid is represented as a nested list, and it contains 3x3 squares. The initial grid is formatted like this:\n",
    "\n",
    "```\n",
    "[['⬜️', '⬜️', '⬜️'],\n",
    " ['⬜️', '⬜️', '⬜️'],\n",
    " ['⬜️', '⬜️', '⬜️']]\n",
    "```\n",
    "\n",
    "To make the grid easier to visualize, the code provided uses the `print(f\"{row1}\\n{row2}\\n{row3}\")` format to display it as:\n",
    "\n",
    "```\n",
    "['⬜️', '⬜️', '⬜️']\n",
    "['⬜️', '⬜️', '⬜️']\n",
    "['⬜️', '⬜️', '⬜️']\n",
    "```\n",
    "\n",
    "Now, your task is to create a program that allows users to mark a square on the grid using a two-digit input system:\n",
    "\n",
    "- The first digit specifies the column (position on the horizontal axis).\n",
    "- The second digit specifies the row number (position on the vertical axis).\n",
    "\n",
    "For example, if the user inputs \"23,\" the program should place an \"X\" at the position shown below:\n",
    "\n",
    "```\n",
    "['⬜️', '⬜️', '⬜️']\n",
    "['⬜️', '⬜️', 'X']\n",
    "['⬜️', '⬜️', '⬜️']\n",
    "```\n",
    "\n",
    "Here are the key steps your program should follow:\n",
    "\n",
    "1. Accept user input and convert it into a usable format (e.g., \"23\" should be converted to column 2 and row 3).\n",
    "2. Update the nested list grid with an \"X\" at the specified position.\n",
    "\n",
    "This program provides a fun way to mark a spot on the grid with an \"X\" and visualize the changes in the grid structure.\n",
    "\n",
    "Enjoy using this program to explore and mark spots on the grid!"
   ]
  },
  {
   "cell_type": "code",
   "execution_count": null,
   "metadata": {},
   "outputs": [],
   "source": []
  }
 ],
 "metadata": {
  "language_info": {
   "name": "python"
  },
  "orig_nbformat": 4
 },
 "nbformat": 4,
 "nbformat_minor": 2
}
