{
 "cells": [
  {
   "cell_type": "markdown",
   "metadata": {},
   "source": [
    "## Tip Calculator\n",
    "\n",
    "# Instructions\n",
    "\n",
    "If the bill was $150.00, split between 5 people, with 12% tip. \n",
    "\n",
    "Each person should pay (150.00 / 5) * 1.12 = 33.6\n",
    "\n",
    "Format the result to 2 decimal places = 33.60\n",
    "\n",
    "Thus everyone's share of the total bill is $30.00 plus a $3.60 tip.\n",
    "\n",
    "# Example Input\n",
    "\n",
    "```\n",
    "Welcome to the tip calculator!\n",
    "What was the total bill? $124.56\n",
    "How much tip would you like to give? 10, 12, or 15? 12\n",
    "How many people to split the bill? 7\n",
    "```\n",
    "\n",
    "# Example Output\n",
    "\n",
    "```\n",
    "Each person should pay: $19.93\n",
    "```"
   ]
  },
  {
   "cell_type": "code",
   "execution_count": 6,
   "metadata": {},
   "outputs": [
    {
     "name": "stdout",
     "output_type": "stream",
     "text": [
      "Welcome to the Tip Calculator!\n",
      "Each person should pay: $33.60\n"
     ]
    }
   ],
   "source": [
    "print(\"Welcome to the Tip Calculator!\")\n",
    "total_bill = float(input(\"What was the total bill? $\"))\n",
    "tip_amount = int(input(\"How much tip would you like to give? 10, 12, or 15? \"))\n",
    "number_of_people = int(input(\"How many people to split the bill? \"))\n",
    "\n",
    "amount_per_person = round((total_bill/number_of_people)*(1+(tip_amount/100)),2)\n",
    "amount_per_person = \"{:.2f}\".format(amount_per_person)\n",
    "print(f\"Each person should pay: ${amount_per_person}\")"
   ]
  },
  {
   "cell_type": "code",
   "execution_count": null,
   "metadata": {},
   "outputs": [],
   "source": []
  }
 ],
 "metadata": {
  "kernelspec": {
   "display_name": "base",
   "language": "python",
   "name": "python3"
  },
  "language_info": {
   "codemirror_mode": {
    "name": "ipython",
    "version": 3
   },
   "file_extension": ".py",
   "mimetype": "text/x-python",
   "name": "python",
   "nbconvert_exporter": "python",
   "pygments_lexer": "ipython3",
   "version": "3.9.13"
  },
  "orig_nbformat": 4
 },
 "nbformat": 4,
 "nbformat_minor": 2
}
