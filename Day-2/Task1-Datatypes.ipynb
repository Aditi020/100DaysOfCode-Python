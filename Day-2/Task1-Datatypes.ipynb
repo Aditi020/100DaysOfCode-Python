{
 "cells": [
  {
   "cell_type": "markdown",
   "metadata": {},
   "source": [
    "Write a program that adds the digits in a 2 digit number. e.g. if the input was 35, then the output should be 3 + 5 = 8\n"
   ]
  },
  {
   "cell_type": "code",
   "execution_count": 13,
   "metadata": {},
   "outputs": [
    {
     "name": "stdout",
     "output_type": "stream",
     "text": [
      "1+2 = 3\n"
     ]
    }
   ],
   "source": [
    "# 🚨 Don't change the code below 👇\n",
    "two_digit_number = input(\"Type a two digit number: \")\n",
    "# 🚨 Don't change the code above 👆\n",
    "\n",
    "####################################\n",
    "# Write your code below this line 👇\n",
    "first_digit = two_digit_number[0]\n",
    "second_digit = two_digit_number[1]\n",
    "sum = int(first_digit)+int(second_digit)\n",
    "print(f\"{first_digit}+{second_digit} = {sum}\")"
   ]
  },
  {
   "cell_type": "code",
   "execution_count": 16,
   "metadata": {},
   "outputs": [
    {
     "name": "stdout",
     "output_type": "stream",
     "text": [
      "The sum of the digits of 64 is 10\n"
     ]
    }
   ],
   "source": [
    "def sum_digits(number):\n",
    "    \"\"\"\n",
    "    This function sums the digits of a number.\n",
    "\n",
    "    Args:\n",
    "      number: The number to sum the digits of.\n",
    "\n",
    "    Returns:\n",
    "      The sum of the digits of the number.\n",
    "    \"\"\"\n",
    "    sum = 0\n",
    "    for digit in number:\n",
    "        sum += int(digit)\n",
    "    return sum\n",
    "\n",
    "\n",
    "def main():\n",
    "    number = input(\"Type a number: \")\n",
    "    print(f\"The sum of the digits of {number} is {sum_digits(number)}\")\n",
    "\n",
    "\n",
    "if __name__ == \"__main__\":\n",
    "    main()"
   ]
  }
 ],
 "metadata": {
  "kernelspec": {
   "display_name": "base",
   "language": "python",
   "name": "python3"
  },
  "language_info": {
   "codemirror_mode": {
    "name": "ipython",
    "version": 3
   },
   "file_extension": ".py",
   "mimetype": "text/x-python",
   "name": "python",
   "nbconvert_exporter": "python",
   "pygments_lexer": "ipython3",
   "version": "3.9.13"
  },
  "orig_nbformat": 4
 },
 "nbformat": 4,
 "nbformat_minor": 2
}
