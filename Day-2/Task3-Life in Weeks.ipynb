{
 "cells": [
  {
   "cell_type": "markdown",
   "metadata": {},
   "source": [
    "Instructions\n",
    "\n",
    "I was reading this article by Tim Urban - Your Life in Weeks and realised just how little time we actually have.\n",
    "\n",
    "https://waitbutwhy.com/2014/05/life-weeks.html\n",
    "\n",
    "Create a program using maths and f-Strings that tells us how many days, weeks, months we have left if we live until 90 years old.\n",
    "\n",
    "It will take your current age as the input and output a message with our time left in this format:\n",
    "\n",
    "You have x days, y weeks, and z months left.\n",
    "\n",
    "Where x, y and z are replaced with the actual calculated numbers."
   ]
  },
  {
   "cell_type": "code",
   "execution_count": 7,
   "metadata": {},
   "outputs": [
    {
     "name": "stdout",
     "output_type": "stream",
     "text": [
      "You have 365 days,52 weeks, and 12 months left.\n"
     ]
    }
   ],
   "source": [
    "# 🚨 Don't change the code below 👇\n",
    "age = input(\"What is your current age? \")\n",
    "# 🚨 Don't change the code above 👆\n",
    "\n",
    "#Write your code below this line 👇\n",
    "int_age= int(age)\n",
    "years_left = 90 - int_age\n",
    "months_left = years_left*12\n",
    "weeks_left = years_left*52\n",
    "days_left = years_left*365\n",
    "print(f\"You have {days_left} days,{weeks_left} weeks, and {months_left} months left.\")"
   ]
  }
 ],
 "metadata": {
  "kernelspec": {
   "display_name": "base",
   "language": "python",
   "name": "python3"
  },
  "language_info": {
   "codemirror_mode": {
    "name": "ipython",
    "version": 3
   },
   "file_extension": ".py",
   "mimetype": "text/x-python",
   "name": "python",
   "nbconvert_exporter": "python",
   "pygments_lexer": "ipython3",
   "version": "3.9.13"
  },
  "orig_nbformat": 4
 },
 "nbformat": 4,
 "nbformat_minor": 2
}
